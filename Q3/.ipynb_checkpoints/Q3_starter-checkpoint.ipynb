{
 "cells": [
  {
   "cell_type": "markdown",
   "metadata": {},
   "source": [
    "# Single-View Geometry (Python)\n",
    "\n",
    "## Usage\n",
    "This code snippet provides an overall code structure and some interactive plot interfaces for the *Single-View Geometry* section of Assignment 3. In [main function](#Main-function), we outline the required functionalities step by step. Some of the functions which involves interactive plots are already provided, but [the rest](#Your-implementation) are left for you to implement.\n",
    "\n",
    "## Package installation\n",
    "- You will need [GUI backend](https://matplotlib.org/faq/usage_faq.html#what-is-a-backend) to enable interactive plots in `matplotlib`.\n",
    "- In this code, we use `tkinter` package. Installation instruction can be found [here](https://anaconda.org/anaconda/tk)."
   ]
  },
  {
   "cell_type": "markdown",
   "metadata": {},
   "source": [
    "# Common imports"
   ]
  },
  {
   "cell_type": "code",
   "execution_count": 113,
   "metadata": {},
   "outputs": [],
   "source": [
    "import matplotlib.pyplot as plt\n",
    "import numpy as np\n",
    "import cv2\n",
    "import os\n",
    "\n",
    "from PIL import Image\n",
    "import pickle\n",
    "import sympy as sp"
   ]
  },
  {
   "cell_type": "code",
   "execution_count": 10,
   "metadata": {},
   "outputs": [],
   "source": [
    "%matplotlib tk"
   ]
  },
  {
   "cell_type": "markdown",
   "metadata": {},
   "source": [
    "# Provided functions"
   ]
  },
  {
   "cell_type": "code",
   "execution_count": 11,
   "metadata": {},
   "outputs": [],
   "source": [
    "def get_input_lines(im, min_lines=3):\n",
    "    \"\"\"\n",
    "    Allows user to input line segments; computes centers and directions.\n",
    "    Inputs:\n",
    "        im: np.ndarray of shape (height, width, 3)\n",
    "        min_lines: minimum number of lines required\n",
    "    Returns:\n",
    "        n: number of lines from input\n",
    "        lines: np.ndarray of shape (3, n)\n",
    "            where each column denotes the parameters of the line equation\n",
    "        centers: np.ndarray of shape (3, n)\n",
    "            where each column denotes the homogeneous coordinates of the centers\n",
    "    \"\"\"\n",
    "    n = 0\n",
    "    lines = np.zeros((3, 0))\n",
    "    centers = np.zeros((3, 0))\n",
    "\n",
    "    plt.figure()\n",
    "    plt.axis('off')\n",
    "    plt.imshow(im)\n",
    "    print(f'Set at least {min_lines} lines to compute vanishing point')\n",
    "    print(f'The delete and backspace keys act like right clicking')\n",
    "    print(f'The enter key acts like middle clicking')\n",
    "    while True:\n",
    "        print('Click the two endpoints, use the right button (delete and backspace keys) to undo, and use the middle button to stop input')\n",
    "        clicked = plt.ginput(2, timeout=0, show_clicks=True)\n",
    "        if not clicked or len(clicked) < 2:\n",
    "            if n < min_lines:\n",
    "                print(f'Need at least {min_lines} lines, you have {n} now')\n",
    "                continue\n",
    "            else:\n",
    "                # Stop getting lines if number of lines is enough\n",
    "                break\n",
    "\n",
    "        # Unpack user inputs and save as homogeneous coordinates\n",
    "        pt1 = np.array([clicked[0][0], clicked[0][1], 1])\n",
    "        pt2 = np.array([clicked[1][0], clicked[1][1], 1])\n",
    "        # Get line equation using cross product\n",
    "        # Line equation: line[0] * x + line[1] * y + line[2] = 0\n",
    "        line = np.cross(pt1, pt2)\n",
    "        lines = np.append(lines, line.reshape((3, 1)), axis=1)\n",
    "        # Get center coordinate of the line segment\n",
    "        center = (pt1 + pt2) / 2\n",
    "        centers = np.append(centers, center.reshape((3, 1)), axis=1)\n",
    "\n",
    "        # Plot line segment\n",
    "        plt.plot([pt1[0], pt2[0]], [pt1[1], pt2[1]], color='b')\n",
    "\n",
    "        n += 1\n",
    "\n",
    "    return n, lines, centers"
   ]
  },
  {
   "cell_type": "code",
   "execution_count": 12,
   "metadata": {},
   "outputs": [],
   "source": [
    "def plot_lines_and_vp(ax, im, lines, vp):\n",
    "    \"\"\"\n",
    "    Plots user-input lines and the calculated vanishing point.\n",
    "    Inputs:\n",
    "        im: np.ndarray of shape (height, width, 3)\n",
    "        lines: np.ndarray of shape (3, n)\n",
    "            where each column denotes the parameters of the line equation\n",
    "        vp: np.ndarray of shape (3, )\n",
    "    \"\"\"\n",
    "    bx1 = min(1, vp[0] / vp[2]) - 10\n",
    "    bx2 = max(im.shape[1], vp[0] / vp[2]) + 10\n",
    "    by1 = min(1, vp[1] / vp[2]) - 10\n",
    "    by2 = max(im.shape[0], vp[1] / vp[2]) + 10\n",
    "    \n",
    "    ax.imshow(im)\n",
    "    for i in range(lines.shape[1]):\n",
    "        if lines[0, i] < lines[1, i]:\n",
    "            pt1 = np.cross(np.array([1, 0, -bx1]), lines[:, i])\n",
    "            pt2 = np.cross(np.array([1, 0, -bx2]), lines[:, i])\n",
    "        else:\n",
    "            pt1 = np.cross(np.array([0, 1, -by1]), lines[:, i])\n",
    "            pt2 = np.cross(np.array([0, 1, -by2]), lines[:, i])\n",
    "        pt1 = pt1 / pt1[2]\n",
    "        pt2 = pt2 / pt2[2]\n",
    "        ax.plot([pt1[0], pt2[0]], [pt1[1], pt2[1]], 'g')\n",
    "\n",
    "    ax.plot(vp[0] / vp[2], vp[1] / vp[2], 'ro')\n",
    "    ax.set_xlim([bx1, bx2])\n",
    "    ax.set_ylim([by2, by1])"
   ]
  },
  {
   "cell_type": "markdown",
   "metadata": {},
   "source": [
    "# Your implementation"
   ]
  },
  {
   "cell_type": "code",
   "execution_count": 50,
   "metadata": {},
   "outputs": [],
   "source": [
    "def get_vanishing_point(ls):\n",
    "    \"\"\"\n",
    "    Solves for the vanishing point using the user-input lines.\n",
    "    \"\"\"\n",
    "    # <YOUR CODE>\n",
    "    is1 = np.cross(ls[:, 0], ls[:, 1])\n",
    "    is2 = np.cross(ls[:, 1], ls[:, 2])\n",
    "    is3 = np.cross(ls[:, 0], ls[:, 2])\n",
    "    \n",
    "    iss = np.vstack((is1/is1[-1], is2/is2[-1], is3/is3[-1]))\n",
    "    vpt = np.mean(iss, axis=0)\n",
    "    return vpt"
   ]
  },
  {
   "cell_type": "code",
   "execution_count": 104,
   "metadata": {},
   "outputs": [],
   "source": [
    "def get_horizon_line(vpt1, vpt2):\n",
    "    \"\"\"\n",
    "    Calculates the ground horizon line.\n",
    "    \"\"\"\n",
    "    # <YOUR CODE>\n",
    "    a, b, c = np.cross(vpt1, vpt2)\n",
    "    scale = np.sqrt(1 / (a**2 + b**2))\n",
    "    line = np.array([a, b, c]) * scale\n",
    "    return line\n",
    "# get_horizon_line(vpts)"
   ]
  },
  {
   "cell_type": "code",
   "execution_count": 107,
   "metadata": {},
   "outputs": [],
   "source": [
    "def plot_horizon_line(ax, im, vpt1, vpt2):\n",
    "    \"\"\"\n",
    "    Plots the horizon line.\n",
    "    \"\"\"\n",
    "    # <YOUR CODE>\n",
    "    ax.imshow(im)\n",
    "    ax.plot([vpt1[0], vpt2[0]], [vpt1[1], vpt2[1]], 'g')\n",
    "    return"
   ]
  },
  {
   "cell_type": "code",
   "execution_count": 145,
   "metadata": {},
   "outputs": [
    {
     "name": "stdout",
     "output_type": "stream",
     "text": [
      "-2334.13539207586 2048.06544224965 1120.52389673485 [[-2.33413539e+03  0.00000000e+00  2.04806544e+03]\n",
      " [ 0.00000000e+00 -2.33413539e+03  1.12052390e+03]\n",
      " [ 0.00000000e+00  0.00000000e+00  1.00000000e+00]]\n"
     ]
    }
   ],
   "source": [
    "def get_camera_parameters(vpts):\n",
    "    \"\"\"\n",
    "    Computes the camera parameters. Hint: The SymPy package is suitable for this.\n",
    "    \"\"\"\n",
    "    # <YOUR CODE>\n",
    "    vpt1 = sp.Matrix(vpts[:, 0]) \n",
    "    vpt2 = sp.Matrix(vpts[:, 1]) \n",
    "    vpt3 = sp.Matrix(vpts[:, 2])\n",
    "#     print(p1, p2, p3)\n",
    "    k = sp.Matrix((('f', 0, 'u'), (0, 'f', 'v'), (0, 0, 1)))\n",
    "    kinv = k.inv()\n",
    "    f, u, v = sp.solve([vpt1.T*kinv.T*kinv*vpt2, \n",
    "                 vpt1.T*kinv.T*kinv*vpt3, \n",
    "                 vpt2.T*kinv.T*kinv*vpt3], \n",
    "                ['f', 'u', 'v'])[0]\n",
    "    \n",
    "    k = np.array([[f, 0, u],\n",
    "                 [0, f, v],\n",
    "                 [0, 0, 1]], dtype = 'float')\n",
    "    return f, u, v, k\n",
    "f, u, v, k = get_camera_parameters(vpts)\n",
    "print(f, u, v, k)"
   ]
  },
  {
   "cell_type": "code",
   "execution_count": 153,
   "metadata": {},
   "outputs": [
    {
     "data": {
      "text/plain": [
       "array([[-0.01523129,  0.853122  , -0.52148908],\n",
       "       [-0.89611959,  0.21971378,  0.3856106 ],\n",
       "       [ 0.44355122,  0.47318993,  0.76115281]])"
      ]
     },
     "execution_count": 153,
     "metadata": {},
     "output_type": "execute_result"
    }
   ],
   "source": [
    "def get_rotation_matrix(vpts, f, k):\n",
    "    \"\"\"\n",
    "    Computes the rotation matrix using the camera parameters.\n",
    "    \"\"\"\n",
    "    # <YOUR CODE>\n",
    "    vpt1 = vpts[:, 0]\n",
    "    vpt2 = vpts[:, 1]\n",
    "    vpt3 = vpts[:, 2]\n",
    "#     print(k)\n",
    "    kinv = np.linalg.inv(k)\n",
    "    r1 = np.dot(kinv, vpt1)\n",
    "    r2 = np.dot(kinv, vpt2)\n",
    "    r3 = np.dot(kinv, vpt3)\n",
    "    r1 = r1 / np.linalg.norm(r1)\n",
    "    r2 = r2 / np.linalg.norm(r2)\n",
    "    r3 = r3 / np.linalg.norm(r3)\n",
    "    r1 = r1.reshape((3,1))\n",
    "    r2 = r2.reshape((3,1))\n",
    "    r3 = r3.reshape((3,1))\n",
    "    R = np.hstack((r1, r2, r3))\n",
    "    return R\n",
    "# get_rotation_matrix(vpts, f, k)"
   ]
  },
  {
   "cell_type": "code",
   "execution_count": 79,
   "metadata": {},
   "outputs": [
    {
     "ename": "SyntaxError",
     "evalue": "invalid syntax (<ipython-input-79-1019841f9074>, line 1)",
     "output_type": "error",
     "traceback": [
      "\u001b[0;36m  File \u001b[0;32m\"<ipython-input-79-1019841f9074>\"\u001b[0;36m, line \u001b[0;32m1\u001b[0m\n\u001b[0;31m    def get_homography(...):\u001b[0m\n\u001b[0m                       ^\u001b[0m\n\u001b[0;31mSyntaxError\u001b[0m\u001b[0;31m:\u001b[0m invalid syntax\n"
     ]
    }
   ],
   "source": [
    "def get_homography(...):\n",
    "    \"\"\"\n",
    "    Compute homography for transforming the image into fronto-parallel \n",
    "    views along the different axes.\n",
    "    \"\"\"\n",
    "    # <YOUR CODE>\n",
    "    pass"
   ]
  },
  {
   "cell_type": "markdown",
   "metadata": {},
   "source": [
    "# Main function"
   ]
  },
  {
   "cell_type": "code",
   "execution_count": 67,
   "metadata": {},
   "outputs": [],
   "source": [
    "im = np.asarray(Image.open('./eceb.jpg'))\n",
    "\n",
    "# Also loads the vanishing line data if it exists in data.pickle file. \n",
    "# data.pickle is written using snippet in the next cell.\n",
    "if os.path.exists('./data.pickle'):\n",
    "    with open('./data.pickle', 'rb') as f:\n",
    "        all_n, all_lines, all_centers = pickle.load(f)\n",
    "    num_vpts = 3"
   ]
  },
  {
   "cell_type": "code",
   "execution_count": 70,
   "metadata": {},
   "outputs": [
    {
     "name": "stdout",
     "output_type": "stream",
     "text": [
      "Getting vanishing point 0\n",
      "Set at least 3 lines to compute vanishing point\n",
      "The delete and backspace keys act like right clicking\n",
      "The enter key acts like middle clicking\n",
      "Click the two endpoints, use the right button (delete and backspace keys) to undo, and use the middle button to stop input\n",
      "Click the two endpoints, use the right button (delete and backspace keys) to undo, and use the middle button to stop input\n",
      "Click the two endpoints, use the right button (delete and backspace keys) to undo, and use the middle button to stop input\n",
      "Click the two endpoints, use the right button (delete and backspace keys) to undo, and use the middle button to stop input\n",
      "Getting vanishing point 1\n",
      "Set at least 3 lines to compute vanishing point\n",
      "The delete and backspace keys act like right clicking\n",
      "The enter key acts like middle clicking\n",
      "Click the two endpoints, use the right button (delete and backspace keys) to undo, and use the middle button to stop input\n",
      "Click the two endpoints, use the right button (delete and backspace keys) to undo, and use the middle button to stop input\n",
      "Click the two endpoints, use the right button (delete and backspace keys) to undo, and use the middle button to stop input\n",
      "Click the two endpoints, use the right button (delete and backspace keys) to undo, and use the middle button to stop input\n",
      "Getting vanishing point 2\n",
      "Set at least 3 lines to compute vanishing point\n",
      "The delete and backspace keys act like right clicking\n",
      "The enter key acts like middle clicking\n",
      "Click the two endpoints, use the right button (delete and backspace keys) to undo, and use the middle button to stop input\n",
      "Click the two endpoints, use the right button (delete and backspace keys) to undo, and use the middle button to stop input\n",
      "Click the two endpoints, use the right button (delete and backspace keys) to undo, and use the middle button to stop input\n",
      "Click the two endpoints, use the right button (delete and backspace keys) to undo, and use the middle button to stop input\n"
     ]
    }
   ],
   "source": [
    "# Click and save the line data for vanishing points. This snippet \n",
    "# opens up an interface for selecting points and writes them to \n",
    "# data.pickle file. The file is over-written.\n",
    "\n",
    "num_vpts = 3\n",
    "all_n, all_lines, all_centers = [], [], []\n",
    "\n",
    "for i in range(num_vpts):\n",
    "    print(f'Getting vanishing point {i}')\n",
    "    \n",
    "    # Get at least three lines from user input\n",
    "    n_i, lines_i, centers_i = get_input_lines(im)\n",
    "    all_n.append(n_i)\n",
    "    all_lines.append(lines_i)\n",
    "    all_centers.append(centers_i)\n",
    "\n",
    "with open('data.pickle', 'wb') as f:\n",
    "    pickle.dump([all_n, all_lines, all_centers], f)"
   ]
  },
  {
   "cell_type": "code",
   "execution_count": 96,
   "metadata": {},
   "outputs": [],
   "source": [
    "# Part (1)\n",
    "# Computing vanishing points for each of the directions\n",
    "vpts = np.zeros((3, num_vpts))\n",
    "for i in range(num_vpts):\n",
    "    fig = plt.figure(); ax = fig.gca()\n",
    "    \n",
    "    # <YOUR CODE> Solve for vanishing point\n",
    "    lines = np.asarray(all_lines[i])\n",
    "    vpts[:, i] = get_vanishing_point(lines)\n",
    "    \n",
    "    # Plot the lines and the vanishing point\n",
    "    plot_lines_and_vp(ax, im, all_lines[i], vpts[:, i])\n",
    "    fig.savefig('Q3_vp{:d}.pdf'.format(i), bbox_inches='tight')"
   ]
  },
  {
   "cell_type": "code",
   "execution_count": 110,
   "metadata": {},
   "outputs": [
    {
     "name": "stdout",
     "output_type": "stream",
     "text": [
      "[-0.01699449 -0.99985558  0.01059219]\n"
     ]
    }
   ],
   "source": [
    "# Part (2) Computing and plotting the horizon\n",
    "# <YOUR CODE> Get the ground horizon line\n",
    "horizon_line = get_horizon_line(vpts[:,0], vpts[:,2])\n",
    "print(horizon_line)\n",
    "\n",
    "# <YOUR CODE> Plot the ground horizon line\n",
    "fig = plt.figure(); ax = fig.gca()\n",
    "plot_horizon_line(ax, im, vpts[:,0], vpts[:,2])\n",
    "fig.savefig('Q3_horizon.pdf', bbox_inches='tight')"
   ]
  },
  {
   "cell_type": "code",
   "execution_count": 132,
   "metadata": {},
   "outputs": [
    {
     "name": "stdout",
     "output_type": "stream",
     "text": [
      "2048.06544224965 1120.52389673485 -2334.13539207586 [[-2334.13539207586 0 2048.06544224965]\n",
      " [0 -2334.13539207586 1120.52389673485]\n",
      " [0 0 1]]\n"
     ]
    }
   ],
   "source": [
    "# Part (3) Computing Camera Parameters\n",
    "# <YOUR CODE> Solve for the camera parameters (f, u, v)\n",
    "f, u, v, K = get_camera_parameters(vpts)\n",
    "print(u, v, f, K)"
   ]
  },
  {
   "cell_type": "code",
   "execution_count": 133,
   "metadata": {},
   "outputs": [
    {
     "name": "stdout",
     "output_type": "stream",
     "text": [
      "Rotation Matrix: [[-0.01523129  0.853122   -0.52148908]\n",
      " [-0.89611959  0.21971378  0.3856106 ]\n",
      " [ 0.44355122  0.47318993  0.76115281]]\n",
      "[[-0.01523129  0.853122   -0.52148908]\n",
      " [-0.89611959  0.21971378  0.3856106 ]\n",
      " [ 0.44355122  0.47318993  0.76115281]]\n"
     ]
    }
   ],
   "source": [
    "# Part (4) Computing Rotation Matrices\n",
    "# <YOUR CODE> Solve for the rotation matrix\n",
    "R = get_rotation_matrix(vpts, f, u, v)\n",
    "print(R)"
   ]
  },
  {
   "cell_type": "code",
   "execution_count": null,
   "metadata": {},
   "outputs": [],
   "source": []
  }
 ],
 "metadata": {
  "kernelspec": {
   "display_name": "Python 3",
   "language": "python",
   "name": "python3"
  },
  "language_info": {
   "codemirror_mode": {
    "name": "ipython",
    "version": 3
   },
   "file_extension": ".py",
   "mimetype": "text/x-python",
   "name": "python",
   "nbconvert_exporter": "python",
   "pygments_lexer": "ipython3",
   "version": "3.8.5"
  }
 },
 "nbformat": 4,
 "nbformat_minor": 4
}
